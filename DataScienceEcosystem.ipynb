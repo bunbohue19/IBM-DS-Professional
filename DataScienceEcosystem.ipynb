{
 "cells": [
  {
   "cell_type": "markdown",
   "metadata": {},
   "source": [
    "# Data Science Tools and Ecosystem"
   ]
  },
  {
   "cell_type": "markdown",
   "metadata": {},
   "source": [
    "## Introduction\n",
    "\n",
    "In this notebook, Data Science Tools and Ecosystem are summarized."
   ]
  },
  {
   "cell_type": "markdown",
   "metadata": {},
   "source": [
    "**Objectives:**\n",
    "\n",
    "- List popular languages for Data Science.\n",
    "- Highlight commonly used libraries in Data Science.\n",
    "- Introduce popular development environment tools for Data Science.\n",
    "- Provide examples of evaluating arithmetic expressions in Python.\n",
    "- Illustrate the conversion of minutes to hours using Python.\n"
   ]
  },
  {
   "cell_type": "markdown",
   "metadata": {},
   "source": [
    "## Author\n",
    "\n",
    "Loc Nguyen"
   ]
  },
  {
   "cell_type": "markdown",
   "metadata": {},
   "source": [
    "## Data Science Languages\n",
    "\n",
    "Some of the popular languages that Data Scientists use are:\n",
    "\n",
    "1. **Python**: Widely adopted for its simplicity, extensive libraries (such as NumPy, Pandas, and Scikit-learn), and versatility in data manipulation, analysis, and machine learning.\n",
    "\n",
    "2. **R**: Commonly used for statistical analysis and data visualization, R is favored in academia and research-oriented data science projects.\n",
    "\n",
    "3. **SQL (Structured Query Language)**: Essential for database management and querying. Data scientists often use SQL to extract and manipulate data stored in relational databases.\n",
    "\n",
    "4. **Julia**: Known for its high-performance computing capabilities, Julia is gaining popularity in data science, especially for tasks involving large datasets and complex computations.\n",
    "\n",
    "5. **Scala**: Often used in conjunction with Apache Spark for big data processing and analytics, Scala is a versatile language that runs on the Java Virtual Machine (JVM).\n"
   ]
  },
  {
   "cell_type": "markdown",
   "metadata": {},
   "source": [
    "## Data Science Libraries\n",
    "\n",
    "Some of the commonly used libraries by Data Scientists include:\n",
    "\n",
    "1. **NumPy**: A fundamental library for scientific computing in Python, providing support for large, multi-dimensional arrays and matrices, along with mathematical functions to operate on these arrays.\n",
    "\n",
    "2. **Pandas**: A powerful data manipulation and analysis library for Python. It offers data structures like DataFrame, making it easy to handle and analyze structured data.\n",
    "\n",
    "3. **Scikit-learn**: A machine learning library for Python that provides simple and efficient tools for data analysis and modeling, including various algorithms for classification, regression, clustering, and more.\n",
    "\n",
    "4. **Matplotlib**: A versatile plotting library for Python, widely used for creating static, animated, and interactive visualizations in data science.\n",
    "\n",
    "5. **TensorFlow and PyTorch**: Deep learning frameworks that enable building and training neural networks. TensorFlow is developed by Google, while PyTorch is maintained by Facebook's AI Research lab.\n",
    "\n",
    "6. **Seaborn**: Built on top of Matplotlib, Seaborn is a statistical data visualization library that simplifies the creation of informative and attractive visualizations.\n"
   ]
  },
  {
   "cell_type": "markdown",
   "metadata": {},
   "source": [
    "## Data Science Tools\n",
    "\n",
    "| Data Science Tools          |\n",
    "|-----------------------------|\n",
    "| Jupyter Notebooks           |\n",
    "| RStudio                     |\n",
    "| VSCode with Data Science Extensions |\n"
   ]
  },
  {
   "cell_type": "markdown",
   "metadata": {},
   "source": [
    "### Arithmetic Expression Examples in Python\n",
    "\n",
    "Below are a few examples of evaluating arithmetic expressions in Python.\n"
   ]
  },
  {
   "cell_type": "code",
   "execution_count": 2,
   "metadata": {},
   "outputs": [
    {
     "data": {
      "text/plain": [
       "17"
      ]
     },
     "execution_count": 2,
     "metadata": {},
     "output_type": "execute_result"
    }
   ],
   "source": [
    "# This is a simple arithmetic expression to multiply and then add integers\n",
    "result = (3 * 4) + 5\n",
    "result"
   ]
  },
  {
   "cell_type": "code",
   "execution_count": 1,
   "metadata": {},
   "outputs": [
    {
     "data": {
      "text/plain": [
       "3.3333333333333335"
      ]
     },
     "execution_count": 1,
     "metadata": {},
     "output_type": "execute_result"
    }
   ],
   "source": [
    "# This will convert 200 minutes to hours by dividing by 60\n",
    "minutes = 200\n",
    "hours = minutes / 60\n",
    "hours"
   ]
  }
 ],
 "metadata": {
  "kernelspec": {
   "display_name": "readsum",
   "language": "python",
   "name": "python3"
  },
  "language_info": {
   "codemirror_mode": {
    "name": "ipython",
    "version": 3
   },
   "file_extension": ".py",
   "mimetype": "text/x-python",
   "name": "python",
   "nbconvert_exporter": "python",
   "pygments_lexer": "ipython3",
   "version": "3.9.18"
  }
 },
 "nbformat": 4,
 "nbformat_minor": 2
}
